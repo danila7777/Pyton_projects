{
 "cells": [
  {
   "cell_type": "code",
   "execution_count": 1,
   "metadata": {},
   "outputs": [
    {
     "data": {
      "text/plain": [
       "'C:\\\\Users\\\\danmo\\\\Desktop\\\\Pyton_projects'"
      ]
     },
     "execution_count": 1,
     "metadata": {},
     "output_type": "execute_result"
    }
   ],
   "source": [
    "pwd"
   ]
  },
  {
   "cell_type": "code",
   "execution_count": 2,
   "metadata": {},
   "outputs": [
    {
     "name": "stdout",
     "output_type": "stream",
     "text": [
      "Overwriting sample.txt\n"
     ]
    }
   ],
   "source": [
    "%%writefile sample.txt\n",
    "Name|Phone\n",
    "John; 12123\n",
    "Bob; 34-43\n"
   ]
  },
  {
   "cell_type": "code",
   "execution_count": 3,
   "metadata": {},
   "outputs": [
    {
     "data": {
      "text/plain": [
       "<_io.TextIOWrapper name='sample.txt' mode='r' encoding='cp1251'>"
      ]
     },
     "execution_count": 3,
     "metadata": {},
     "output_type": "execute_result"
    }
   ],
   "source": [
    "file = open('sample.txt')\n",
    "file"
   ]
  },
  {
   "cell_type": "code",
   "execution_count": 4,
   "metadata": {},
   "outputs": [
    {
     "name": "stdout",
     "output_type": "stream",
     "text": [
      "Name|Phone\n",
      "John; 12123\n",
      "Bob; 34-43\n",
      "\n",
      "<class 'str'>\n"
     ]
    }
   ],
   "source": [
    "data = file.read() \n",
    "print(data)               #Пусто тк курсор ушел вниз файла\n",
    "print(type(data))"
   ]
  },
  {
   "cell_type": "code",
   "execution_count": 5,
   "metadata": {},
   "outputs": [
    {
     "name": "stdout",
     "output_type": "stream",
     "text": [
      "Name|Phone\n",
      "John; 12123\n",
      "Bob; 34-43\n",
      "\n"
     ]
    }
   ],
   "source": [
    "print(data)"
   ]
  },
  {
   "cell_type": "code",
   "execution_count": 6,
   "metadata": {},
   "outputs": [
    {
     "name": "stdout",
     "output_type": "stream",
     "text": [
      "\n"
     ]
    }
   ],
   "source": [
    "print(file.read())    #Пусто тк курсор ушел вниз файла"
   ]
  },
  {
   "cell_type": "code",
   "execution_count": 7,
   "metadata": {},
   "outputs": [
    {
     "name": "stdout",
     "output_type": "stream",
     "text": [
      "Name|Phone\n",
      "John; 12123\n",
      "Bob; 34-43\n",
      "\n"
     ]
    }
   ],
   "source": [
    "file.seek(0)           #Перевести курсор в начало документа\n",
    "print(file.read())"
   ]
  },
  {
   "cell_type": "code",
   "execution_count": null,
   "metadata": {},
   "outputs": [],
   "source": []
  },
  {
   "cell_type": "code",
   "execution_count": 8,
   "metadata": {},
   "outputs": [
    {
     "name": "stdout",
     "output_type": "stream",
     "text": [
      "<class 'list'>\n",
      "['Name|Phone\\n', 'John; 12123\\n', 'Bob; 34-43\\n']\n"
     ]
    }
   ],
   "source": [
    "file.seek(0)\n",
    "lines = file.readlines()         #Вывод в линию\n",
    "print(type(lines))\n",
    "print(lines)"
   ]
  },
  {
   "cell_type": "code",
   "execution_count": 9,
   "metadata": {},
   "outputs": [
    {
     "name": "stdout",
     "output_type": "stream",
     "text": [
      "<_io.TextIOWrapper name='C:\\\\Users\\\\danmo\\\\Desktop\\\\Pyton_projects\\\\sample.txt' mode='r' encoding='cp1251'>\n"
     ]
    }
   ],
   "source": [
    "sample_file=open(r'C:\\Users\\danmo\\Desktop\\Pyton_projects\\sample.txt') \n",
    "#r убирает задвоение \\\n",
    "print(sample_file)"
   ]
  },
  {
   "cell_type": "code",
   "execution_count": 10,
   "metadata": {},
   "outputs": [
    {
     "name": "stdout",
     "output_type": "stream",
     "text": [
      "True\n",
      "True\n"
     ]
    }
   ],
   "source": [
    "file.close()                  #Закрыть файл \n",
    "sample_file.close()           #Закрыть файл \n",
    "print(file.closed)            #Проверить закрыт ли файл \n",
    "print(sample_file.closed)     #Проверить закрыт ли файл "
   ]
  },
  {
   "cell_type": "code",
   "execution_count": 11,
   "metadata": {},
   "outputs": [
    {
     "name": "stdout",
     "output_type": "stream",
     "text": [
      "Name|Phone\n",
      "John; 12123\n",
      "Bob; 34-43\n",
      "\n"
     ]
    }
   ],
   "source": [
    "with open('sample.txt') as sample_file:      #Файл будет закрыт автоматически\n",
    "    sample_data = sample_file.read()\n",
    "    print(sample_data)"
   ]
  },
  {
   "cell_type": "code",
   "execution_count": 12,
   "metadata": {},
   "outputs": [],
   "source": [
    "# Режимы открытия файлов  File Modes\n",
    "#r - read\n",
    "#w - write\n",
    "#r+ - r+w\n",
    "#w+ - r+w    \n",
    "#a - добавить"
   ]
  },
  {
   "cell_type": "code",
   "execution_count": 13,
   "metadata": {},
   "outputs": [],
   "source": [
    "with open('sample.txt', mode='a') as sample_file:   #Добавить запись\n",
    "    sample_file.write('Moscow 1999')"
   ]
  },
  {
   "cell_type": "code",
   "execution_count": 14,
   "metadata": {},
   "outputs": [
    {
     "name": "stdout",
     "output_type": "stream",
     "text": [
      "Name|Phone\n",
      "John; 12123\n",
      "Bob; 34-43\n",
      "Moscow 1999\n"
     ]
    }
   ],
   "source": [
    "with open('sample.txt', mode='r') as sample_file:     \n",
    "    sample_data = sample_file.read()\n",
    "    print(sample_data)"
   ]
  },
  {
   "cell_type": "code",
   "execution_count": 15,
   "metadata": {},
   "outputs": [
    {
     "name": "stdout",
     "output_type": "stream",
     "text": [
      "Name|Phone\n",
      "John; 12123\n",
      "Bob; 34-43\n",
      "Moscow 1999\n",
      "Ryazan 2000\n"
     ]
    }
   ],
   "source": [
    "with open('sample.txt', mode='r+') as sample_file:\n",
    "    sample_file.seek(0, 2)   \n",
    "    \n",
    "#С какого места установить курсор. \n",
    "#0 с самого начала\n",
    "#2 с конца файла\n",
    "#1 относительно текущей позиции\n",
    "\n",
    "    sample_file.write('\\nRyazan 2000')\n",
    "    sample_file.seek(0)\n",
    "    print(sample_file.read())"
   ]
  },
  {
   "cell_type": "code",
   "execution_count": 17,
   "metadata": {},
   "outputs": [
    {
     "name": "stdout",
     "output_type": "stream",
     "text": [
      "abra-abra\n"
     ]
    }
   ],
   "source": [
    "with open('sampleabra.txt', mode='w+') as spell_file:  \n",
    "#Создали новый файл и записали строку\n",
    "    spell_file.write('abra-abra')\n",
    "    spell_file.seek(0)\n",
    "    print(spell_file.read())"
   ]
  },
  {
   "cell_type": "code",
   "execution_count": null,
   "metadata": {},
   "outputs": [],
   "source": []
  }
 ],
 "metadata": {
  "kernelspec": {
   "display_name": "Python 3",
   "language": "python",
   "name": "python3"
  },
  "language_info": {
   "codemirror_mode": {
    "name": "ipython",
    "version": 3
   },
   "file_extension": ".py",
   "mimetype": "text/x-python",
   "name": "python",
   "nbconvert_exporter": "python",
   "pygments_lexer": "ipython3",
   "version": "3.8.3"
  }
 },
 "nbformat": 4,
 "nbformat_minor": 4
}
