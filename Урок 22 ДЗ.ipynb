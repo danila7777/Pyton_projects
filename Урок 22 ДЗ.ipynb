{
 "cells": [
  {
   "cell_type": "code",
   "execution_count": 2,
   "metadata": {},
   "outputs": [
    {
     "name": "stdout",
     "output_type": "stream",
     "text": [
      "Сколько чашек налить?0\n",
      "Чашек всего 0\n",
      "Добавить бонусом 0\n"
     ]
    }
   ],
   "source": [
    "#Задача на каждую 7 бонусную чашку\n",
    "age=input('Сколько чашек налить?')\n",
    "age = int(age)\n",
    "print('Чашек всего', age)\n",
    "every = age/6\n",
    "every = round(every)\n",
    "print('Добавить бонусом', every)"
   ]
  },
  {
   "cell_type": "code",
   "execution_count": 7,
   "metadata": {},
   "outputs": [
    {
     "name": "stdout",
     "output_type": "stream",
     "text": [
      "Введите x1?2\n",
      "Введите y1?6\n",
      "Введите x2?78\n",
      "Введите y2?34\n",
      "81.0\n"
     ]
    }
   ],
   "source": [
    "#Вычислить длину отрезка по координатам двух точек\n",
    "x1=input('Введите x1?')\n",
    "y1=input('Введите y1?')\n",
    "x2=input('Введите x2?')\n",
    "y2=input('Введите y2?')\n",
    "\n",
    "x1 = int(x1)\n",
    "x2 = int(x2)\n",
    "y1 = int(y1)\n",
    "y2 = int(y2)\n",
    "\n",
    "import math\n",
    "r=round(math.sqrt((x1-x2)**2+(y1-y2)**2), 0)\n",
    "\n",
    "print(r)"
   ]
  },
  {
   "cell_type": "code",
   "execution_count": 8,
   "metadata": {},
   "outputs": [
    {
     "name": "stdout",
     "output_type": "stream",
     "text": [
      "Сколько кур?0\n",
      "Сколько коров?0\n",
      "Сколько свиней?2\n",
      "8\n"
     ]
    }
   ],
   "source": [
    "#Задача про ножки\n",
    "kura=input('Сколько кур?')\n",
    "korova=input('Сколько коров?')\n",
    "svin=input('Сколько свиней?')\n",
    "\n",
    "kura = int(kura)\n",
    "korova = int(korova)\n",
    "svin = int(svin)\n",
    "\n",
    "noga=(kura*2)+(korova*4)+(svin*4)\n",
    "print(noga)\n"
   ]
  },
  {
   "cell_type": "code",
   "execution_count": null,
   "metadata": {},
   "outputs": [],
   "source": []
  }
 ],
 "metadata": {
  "kernelspec": {
   "display_name": "Python 3",
   "language": "python",
   "name": "python3"
  },
  "language_info": {
   "codemirror_mode": {
    "name": "ipython",
    "version": 3
   },
   "file_extension": ".py",
   "mimetype": "text/x-python",
   "name": "python",
   "nbconvert_exporter": "python",
   "pygments_lexer": "ipython3",
   "version": "3.8.3"
  }
 },
 "nbformat": 4,
 "nbformat_minor": 4
}
